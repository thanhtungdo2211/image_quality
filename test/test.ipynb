{
 "cells": [
  {
   "cell_type": "code",
   "execution_count": 3,
   "metadata": {},
   "outputs": [],
   "source": [
    "import imagehash\n",
    "from PIL import Image\n",
    "import cv2"
   ]
  },
  {
   "cell_type": "code",
   "execution_count": 8,
   "metadata": {},
   "outputs": [
    {
     "name": "stdout",
     "output_type": "stream",
     "text": [
      "(1080, 1920)\n",
      "(332, 573)\n"
     ]
    }
   ],
   "source": [
    "image_src = Image.open('/home/tcb/Downloads/source.jpeg')\n",
    "print(image_src.size)\n",
    "image_src = image_src.resize((332, 573))\n",
    "print(image_src.size)"
   ]
  },
  {
   "cell_type": "code",
   "execution_count": 7,
   "metadata": {},
   "outputs": [
    {
     "name": "stdout",
     "output_type": "stream",
     "text": [
      "(332, 573)\n"
     ]
    }
   ],
   "source": [
    "image_raw = Image.open('/home/tcb/Downloads/raw.jpg')\n",
    "print(image_raw.size)"
   ]
  },
  {
   "cell_type": "code",
   "execution_count": 14,
   "metadata": {},
   "outputs": [],
   "source": [
    "image_src_phash = imagehash.phash(image_src)\n",
    "image_raw_phash = imagehash.phash(image_raw)"
   ]
  },
  {
   "cell_type": "code",
   "execution_count": null,
   "metadata": {},
   "outputs": [],
   "source": [
    "print(image_src_phash)\n",
    "print(image_raw_phash)"
   ]
  },
  {
   "cell_type": "code",
   "execution_count": 18,
   "metadata": {},
   "outputs": [],
   "source": [
    "image_src_avghash = imagehash.average_hash(image_src)\n",
    "image_raw_avghash = imagehash.average_hash(image_raw)"
   ]
  },
  {
   "cell_type": "code",
   "execution_count": 19,
   "metadata": {},
   "outputs": [
    {
     "name": "stdout",
     "output_type": "stream",
     "text": [
      "c381ffdf00cfc70c\n",
      "4101ff5f00cfcfcc\n"
     ]
    }
   ],
   "source": [
    "print(image_src_avghash)\n",
    "print(image_raw_avghash)"
   ]
  },
  {
   "cell_type": "code",
   "execution_count": 25,
   "metadata": {},
   "outputs": [
    {
     "name": "stdout",
     "output_type": "stream",
     "text": [
      "Similarity score: 0.89\n"
     ]
    }
   ],
   "source": [
    "def hamming_distance(hash1, hash2):\n",
    "    # Convert hash values to binary format\n",
    "    bin1 = bin(int(hash1, 16))[2:].zfill(len(hash1) * 4)\n",
    "    bin2 = bin(int(hash2, 16))[2:].zfill(len(hash2) * 4)\n",
    "    \n",
    "    # Calculate the Hamming distance\n",
    "    distance = sum(c1 != c2 for c1, c2 in zip(bin1, bin2))\n",
    "    \n",
    "    return distance\n",
    "\n",
    "def similarity_score(hash1, hash2):\n",
    "    # Calculate the Hamming distance\n",
    "    distance = hamming_distance(hash1, hash2)\n",
    "    \n",
    "    # Calculate the similarity score\n",
    "    max_length = max(len(hash1), len(hash2)) * 4\n",
    "    score = (max_length - distance) / max_length\n",
    "    \n",
    "    return score\n",
    "\n",
    "# Calculate the similarity score\n",
    "score = similarity_score(str(image_src_avghash), str(image_raw_avghash))\n",
    "\n",
    "# Print the similarity score\n",
    "print(f\"Similarity score: {score:.2f}\")"
   ]
  },
  {
   "cell_type": "code",
   "execution_count": 20,
   "metadata": {},
   "outputs": [
    {
     "name": "stdout",
     "output_type": "stream",
     "text": [
      "(1183, 678)\n"
     ]
    },
    {
     "ename": "AttributeError",
     "evalue": "'NoneType' object has no attribute 'convert'",
     "output_type": "error",
     "traceback": [
      "\u001b[0;31m---------------------------------------------------------------------------\u001b[0m",
      "\u001b[0;31mAttributeError\u001b[0m                            Traceback (most recent call last)",
      "Cell \u001b[0;32mIn[20], line 27\u001b[0m\n\u001b[1;32m     25\u001b[0m \u001b[38;5;28mprint\u001b[39m(original_image_cv2\u001b[38;5;241m.\u001b[39mshape[:\u001b[38;5;241m2\u001b[39m][::\u001b[38;5;241m-\u001b[39m\u001b[38;5;241m1\u001b[39m])\n\u001b[1;32m     26\u001b[0m original_image \u001b[38;5;241m=\u001b[39m original_image_cv2\u001b[38;5;241m.\u001b[39mresize((\u001b[38;5;241m332\u001b[39m, \u001b[38;5;241m573\u001b[39m))  \u001b[38;5;66;03m# Resize the original image\u001b[39;00m\n\u001b[0;32m---> 27\u001b[0m original_hash \u001b[38;5;241m=\u001b[39m \u001b[43mimagehash\u001b[49m\u001b[38;5;241;43m.\u001b[39;49m\u001b[43maverage_hash\u001b[49m\u001b[43m(\u001b[49m\u001b[43moriginal_image\u001b[49m\u001b[43m)\u001b[49m\n\u001b[1;32m     29\u001b[0m \u001b[38;5;66;03m# Folder containing images to compare\u001b[39;00m\n\u001b[1;32m     30\u001b[0m folder_path \u001b[38;5;241m=\u001b[39m \u001b[38;5;124m'\u001b[39m\u001b[38;5;124m/home/tcb/Downloads/viettel_src\u001b[39m\u001b[38;5;124m'\u001b[39m\n",
      "File \u001b[0;32m/media/tcb/New Volume/Ubuntu/Programing/MQSolutions/data-cleaning/Data_quality/venv/lib/python3.10/site-packages/imagehash/__init__.py:248\u001b[0m, in \u001b[0;36maverage_hash\u001b[0;34m(image, hash_size, mean)\u001b[0m\n\u001b[1;32m    245\u001b[0m \t\u001b[38;5;28;01mraise\u001b[39;00m \u001b[38;5;167;01mValueError\u001b[39;00m(\u001b[38;5;124m'\u001b[39m\u001b[38;5;124mHash size must be greater than or equal to 2\u001b[39m\u001b[38;5;124m'\u001b[39m)\n\u001b[1;32m    247\u001b[0m \u001b[38;5;66;03m# reduce size and complexity, then covert to grayscale\u001b[39;00m\n\u001b[0;32m--> 248\u001b[0m image \u001b[38;5;241m=\u001b[39m \u001b[43mimage\u001b[49m\u001b[38;5;241;43m.\u001b[39;49m\u001b[43mconvert\u001b[49m(\u001b[38;5;124m'\u001b[39m\u001b[38;5;124mL\u001b[39m\u001b[38;5;124m'\u001b[39m)\u001b[38;5;241m.\u001b[39mresize((hash_size, hash_size), ANTIALIAS)\n\u001b[1;32m    250\u001b[0m \u001b[38;5;66;03m# find average pixel value; 'pixels' is an array of the pixel values, ranging from 0 (black) to 255 (white)\u001b[39;00m\n\u001b[1;32m    251\u001b[0m pixels \u001b[38;5;241m=\u001b[39m numpy\u001b[38;5;241m.\u001b[39masarray(image)\n",
      "\u001b[0;31mAttributeError\u001b[0m: 'NoneType' object has no attribute 'convert'"
     ]
    }
   ],
   "source": [
    "import os\n",
    "from PIL import Image\n",
    "import imagehash\n",
    "import cv2\n",
    "\n",
    "def hamming_distance(hash1, hash2):\n",
    "    bin1 = bin(int(hash1, 16))[2:].zfill(len(hash1) * 4)\n",
    "    bin2 = bin(int(hash2, 16))[2:].zfill(len(hash2) * 4)\n",
    "    distance = sum(c1 != c2 for c1, c2 in zip(bin1, bin2))\n",
    "    return distance\n",
    "\n",
    "def similarity_score(hash1, hash2):\n",
    "    distance = hamming_distance(hash1, hash2)\n",
    "    max_length = max(len(hash1), len(hash2)) * 4\n",
    "    score = (max_length - distance) / max_length\n",
    "    return score\n",
    "\n",
    "# Load the original image using cv2\n",
    "original_image_path = '/home/tcb/Downloads/viettel.jpg'\n",
    "original_image_cv2 = cv2.imread(original_image_path)\n",
    "\n",
    "# original_image_path = '/home/tcb/Downloads/viettel.jpg'\n",
    "# original_image = Image.open(original_image_path)\n",
    "original_image = Image.fromarray(original_image_cv2)\n",
    "print(original_image.size)\n",
    "original_image = original_image.resize((332, 573))  # Resize the original image\n",
    "original_hash = imagehash.average_hash(original_image)\n",
    "\n",
    "# Folder containing images to compare\n",
    "folder_path = '/home/tcb/Downloads/viettel_src'\n",
    "\n",
    "# Iterate through each image in the folder\n",
    "for filename in os.listdir(folder_path):\n",
    "    if filename.endswith(('.png', '.jpg', '.jpeg')):\n",
    "        image_path = os.path.join(folder_path, filename)\n",
    "        \n",
    "        # Load the image using cv2\n",
    "        image_cv2 = cv2.imread(image_path)\n",
    "        image = Image.fromarray(cv2.cvtColor(image_cv2, cv2.COLOR_BGR2RGB))\n",
    "        \n",
    "        # Resize the image to the size of the original image\n",
    "        image = image.resize((332, 573))\n",
    "        \n",
    "        image_avghash = imagehash.average_hash(image)\n",
    "\n",
    "        # Calculate the similarity score\n",
    "        score = similarity_score(str(original_hash), str(image_avghash))\n",
    "        \n",
    "        # Print the similarity score\n",
    "        print(f\"Similarity score between original image and {filename}: {score:.2f} using average hash\")"
   ]
  },
  {
   "cell_type": "code",
   "execution_count": 3,
   "metadata": {},
   "outputs": [
    {
     "name": "stdout",
     "output_type": "stream",
     "text": [
      "Similarity score between original image and viettel_tv360_15s_0605_04_10_2024_frame0198.jpg: 0.47 using perceptual hash\n",
      "Similarity score between original image and viettel_tv360_15s_0605_04_10_2024_frame0196.jpg: 0.50 using perceptual hash\n",
      "Similarity score between original image and viettel_tv360_15s_0605_04_10_2024_frame0192.jpg: 0.47 using perceptual hash\n",
      "Similarity score between original image and viettel_tv360_15s_0605_04_10_2024_frame0194.jpg: 0.50 using perceptual hash\n",
      "Similarity score between original image and viettel_tv360_15s_0605_04_10_2024_frame0172.jpg: 0.47 using perceptual hash\n"
     ]
    }
   ],
   "source": [
    "import os\n",
    "from PIL import Image\n",
    "import imagehash\n",
    "\n",
    "def hamming_distance(hash1, hash2):\n",
    "    bin1 = bin(int(hash1, 16))[2:].zfill(len(hash1) * 4)\n",
    "    bin2 = bin(int(hash2, 16))[2:].zfill(len(hash2) * 4)\n",
    "    distance = sum(c1 != c2 for c1, c2 in zip(bin1, bin2))\n",
    "    return distance\n",
    "\n",
    "def similarity_score(hash1, hash2):\n",
    "    distance = hamming_distance(hash1, hash2)\n",
    "    max_length = max(len(hash1), len(hash2)) * 4\n",
    "    score = (max_length - distance) / max_length\n",
    "    return score\n",
    "\n",
    "# Load the original image\n",
    "original_image_path = '/home/tcb/Downloads/viettel.jpg'\n",
    "original_image = Image.open(original_image_path)\n",
    "original_hash = imagehash.phash(original_image)\n",
    "\n",
    "# Folder containing images to compare\n",
    "folder_path = '/home/tcb/Downloads/viettel_src'\n",
    "\n",
    "# Iterate through each image in the folder\n",
    "for filename in os.listdir(folder_path):\n",
    "    if filename.endswith(('.png', '.jpg', '.jpeg')):\n",
    "        image_path = os.path.join(folder_path, filename)\n",
    "        image = Image.open(image_path)\n",
    "        image = image.resize(original_image.size)\n",
    "        image_phash = imagehash.phash(image)\n",
    "\n",
    "        # Calculate the similarity score\n",
    "        score = similarity_score(str(original_hash), str(image_phash))\n",
    "\n",
    "        # Print the similarity score\n",
    "        print(f\"Similarity score between original image and {filename}: {score:.2f} using perceptual hash\")"
   ]
  },
  {
   "cell_type": "code",
   "execution_count": 5,
   "metadata": {},
   "outputs": [
    {
     "name": "stdout",
     "output_type": "stream",
     "text": [
      "Similarity score between original image and tgdd_realme_c65s_2608_den_0109_02_10_2024_frame0092.jpg: 0.72 using difference hash\n",
      "Similarity score between original image and tgdd_realme_c65s_2608_den_0109_02_10_2024_frame0204.jpg: 0.72 using difference hash\n",
      "Similarity score between original image and tgdd_realme_c65s_2608_den_0109_02_10_2024_frame0104.jpg: 0.72 using difference hash\n",
      "Similarity score between original image and tgdd_realme_c65s_2608_den_0109_02_10_2024_frame0114.jpg: 0.75 using difference hash\n",
      "Similarity score between original image and tgdd_realme_c65s_2608_den_0109_02_10_2024_frame0118.jpg: 0.73 using difference hash\n",
      "Similarity score between original image and tgdd_realme_c65s_2608_den_0109_02_10_2024_frame0210.jpg: 0.72 using difference hash\n",
      "Similarity score between original image and tgdd_realme_c65s_2608_den_0109_02_10_2024_frame0108.jpg: 0.72 using difference hash\n",
      "Similarity score between original image and tgdd_realme_c65s_2608_den_0109_02_10_2024_frame0088.jpg: 0.70 using difference hash\n",
      "Similarity score between original image and tgdd_realme_c65s_2608_den_0109_02_10_2024_frame0086.jpg: 0.72 using difference hash\n",
      "Similarity score between original image and tgdd_realme_c65s_2608_den_0109_02_10_2024_frame0080.jpg: 0.72 using difference hash\n",
      "Similarity score between original image and tgdd_realme_c65s_2608_den_0109_02_10_2024_frame0220.jpg: 0.72 using difference hash\n",
      "Similarity score between original image and tgdd_realme_c65s_2608_den_0109_02_10_2024_frame0198.jpg: 0.72 using difference hash\n",
      "Similarity score between original image and source.jpeg: 0.72 using difference hash\n",
      "Similarity score between original image and tgdd_realme_c65s_2608_den_0109_02_10_2024_frame0216.jpg: 0.72 using difference hash\n",
      "Similarity score between original image and tgdd_realme_c65s_2608_den_0109_02_10_2024_frame0096.jpg: 0.72 using difference hash\n"
     ]
    }
   ],
   "source": [
    "import os\n",
    "from PIL import Image\n",
    "import imagehash\n",
    "\n",
    "def hamming_distance(hash1, hash2):\n",
    "    bin1 = bin(int(hash1, 16))[2:].zfill(len(hash1) * 4)\n",
    "    bin2 = bin(int(hash2, 16))[2:].zfill(len(hash2) * 4)\n",
    "    distance = sum(c1 != c2 for c1, c2 in zip(bin1, bin2))\n",
    "    return distance\n",
    "\n",
    "def similarity_score(hash1, hash2):\n",
    "    distance = hamming_distance(hash1, hash2)\n",
    "    max_length = max(len(hash1), len(hash2)) * 4\n",
    "    score = (max_length - distance) / max_length\n",
    "    return score\n",
    "\n",
    "# Load the original image\n",
    "original_image_path = '/home/tcb/Downloads/tgdd_raw.jpg'\n",
    "original_image = Image.open(original_image_path)\n",
    "original_hash = imagehash.dhash(original_image)\n",
    "\n",
    "# Folder containing images to compare\n",
    "folder_path = '/home/tcb/Downloads/tggd_source'\n",
    "\n",
    "# Iterate through each image in the folder\n",
    "for filename in os.listdir(folder_path):\n",
    "    if filename.endswith(('.png', '.jpg', '.jpeg')):\n",
    "        image_path = os.path.join(folder_path, filename)\n",
    "        image = Image.open(image_path)\n",
    "        \n",
    "        image_dhash = imagehash.dhash(image)\n",
    "\n",
    "        # Calculate the similarity score\n",
    "        score = similarity_score(str(original_hash), str(image_dhash))\n",
    "\n",
    "        # Print the similarity score\n",
    "        print(f\"Similarity score between original image and {filename}: {score:.2f} using difference hash\")"
   ]
  }
 ],
 "metadata": {
  "kernelspec": {
   "display_name": "venv",
   "language": "python",
   "name": "python3"
  },
  "language_info": {
   "codemirror_mode": {
    "name": "ipython",
    "version": 3
   },
   "file_extension": ".py",
   "mimetype": "text/x-python",
   "name": "python",
   "nbconvert_exporter": "python",
   "pygments_lexer": "ipython3",
   "version": "3.10.12"
  }
 },
 "nbformat": 4,
 "nbformat_minor": 2
}
