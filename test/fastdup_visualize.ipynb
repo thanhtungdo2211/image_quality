{
 "cells": [
  {
   "cell_type": "code",
   "execution_count": 1,
   "metadata": {},
   "outputs": [
    {
     "name": "stderr",
     "output_type": "stream",
     "text": [
      "/home/tung/anaconda3/envs/tung/lib/python3.10/site-packages/tqdm/auto.py:21: TqdmWarning: IProgress not found. Please update jupyter and ipywidgets. See https://ipywidgets.readthedocs.io/en/stable/user_install.html\n",
      "  from .autonotebook import tqdm as notebook_tqdm\n",
      "/home/tung/anaconda3/envs/tung/lib/python3.10/site-packages/fastdup/fastdup_controller.py:540: UserWarning: Fastdup was already applied, use overwrite=True to re-run\n",
      "  warnings.warn('Fastdup was already applied, use overwrite=True to re-run')\n"
     ]
    }
   ],
   "source": [
    "import fastdup\n",
    "fd = fastdup.create(input_dir=\"dermet_image_train/\", work_dir=\"infor_fastdup/\")\n",
    "fd.run()"
   ]
  },
  {
   "cell_type": "code",
   "execution_count": 2,
   "metadata": {},
   "outputs": [
    {
     "name": "stderr",
     "output_type": "stream",
     "text": [
      "Generating gallery: 100%|██████████| 20/20 [00:00<00:00, 66.35it/s]\n"
     ]
    },
    {
     "name": "stdout",
     "output_type": "stream",
     "text": [
      "Stored similarity visual view in  infor_fastdup/galleries/duplicates.html\n",
      "########################################################################################\n",
      "Would you like to see awesome visualizations for some of the most popular academic datasets?\n",
      "Click here to see and learn more: https://app.visual-layer.com/vl-datasets?utm_source=fastdup\n",
      "########################################################################################\n"
     ]
    },
    {
     "data": {
      "text/plain": [
       "0"
      ]
     },
     "execution_count": 2,
     "metadata": {},
     "output_type": "execute_result"
    }
   ],
   "source": [
    "fd.vis.duplicates_gallery()"
   ]
  },
  {
   "cell_type": "code",
   "execution_count": 3,
   "metadata": {},
   "outputs": [
    {
     "name": "stderr",
     "output_type": "stream",
     "text": [
      "Generating gallery: 100%|██████████| 20/20 [00:01<00:00, 13.51it/s]\n"
     ]
    },
    {
     "name": "stdout",
     "output_type": "stream",
     "text": [
      "Finished OK. Components are stored as image files infor_fastdup/galleries/components_[index].jpg\n",
      "Stored components visual view in  infor_fastdup/galleries/components.html\n",
      "Execution time in seconds 2.7\n",
      "########################################################################################\n",
      "Would you like to see awesome visualizations for some of the most popular academic datasets?\n",
      "Click here to see and learn more: https://app.visual-layer.com/vl-datasets?utm_source=fastdup\n",
      "########################################################################################\n"
     ]
    },
    {
     "data": {
      "text/plain": [
       "0"
      ]
     },
     "execution_count": 3,
     "metadata": {},
     "output_type": "execute_result"
    }
   ],
   "source": [
    "fd.vis.component_gallery()     # create a visualization of connected component   # create a gallery of similar images"
   ]
  },
  {
   "cell_type": "code",
   "execution_count": 4,
   "metadata": {},
   "outputs": [
    {
     "name": "stderr",
     "output_type": "stream",
     "text": [
      "Generating gallery: 100%|██████████| 20/20 [00:00<00:00, 60.02it/s]\n"
     ]
    },
    {
     "name": "stdout",
     "output_type": "stream",
     "text": [
      "Stored mean visual view in  infor_fastdup/galleries/mean.html\n",
      "########################################################################################\n",
      "Would you like to see awesome visualizations for some of the most popular academic datasets?\n",
      "Click here to see and learn more: https://app.visual-layer.com/vl-datasets?utm_source=fastdup\n",
      "########################################################################################\n"
     ]
    },
    {
     "data": {
      "text/plain": [
       "0"
      ]
     },
     "execution_count": 4,
     "metadata": {},
     "output_type": "execute_result"
    }
   ],
   "source": [
    "fd.vis.stats_gallery()         # create a visualization of images statistics (e.g. blur)\n"
   ]
  },
  {
   "cell_type": "code",
   "execution_count": 5,
   "metadata": {},
   "outputs": [
    {
     "name": "stdout",
     "output_type": "stream",
     "text": [
      "Warning: you are running create_similarity_gallery() without providing get_label_func so similarities are not computed between different classes. It is recommended to run this report with labels. Without labels this report output is similar to create_duplicate_gallery()\n"
     ]
    },
    {
     "name": "stderr",
     "output_type": "stream",
     "text": [
      "Generating gallery: 100%|██████████| 20/20 [00:01<00:00, 17.91it/s]\n"
     ]
    },
    {
     "name": "stdout",
     "output_type": "stream",
     "text": [
      "Stored similar images visual view in  infor_fastdup/galleries/similarity.html\n",
      "########################################################################################\n",
      "Would you like to see awesome visualizations for some of the most popular academic datasets?\n",
      "Click here to see and learn more: https://app.visual-layer.com/vl-datasets?utm_source=fastdup\n",
      "########################################################################################\n"
     ]
    },
    {
     "data": {
      "text/html": [
       "<div>\n",
       "<style scoped>\n",
       "    .dataframe tbody tr th:only-of-type {\n",
       "        vertical-align: middle;\n",
       "    }\n",
       "\n",
       "    .dataframe tbody tr th {\n",
       "        vertical-align: top;\n",
       "    }\n",
       "\n",
       "    .dataframe thead th {\n",
       "        text-align: right;\n",
       "    }\n",
       "</style>\n",
       "<table border=\"1\" class=\"dataframe\">\n",
       "  <thead>\n",
       "    <tr style=\"text-align: right;\">\n",
       "      <th></th>\n",
       "      <th>from</th>\n",
       "      <th>to</th>\n",
       "      <th>distance</th>\n",
       "    </tr>\n",
       "  </thead>\n",
       "  <tbody>\n",
       "    <tr>\n",
       "      <th>2944</th>\n",
       "      <td>dermet_image_train/eczema-subacute-59.jpg</td>\n",
       "      <td>[dermet_image_train/eczema-subacute-58.jpg, dermet_image_train/eczema-subacute-60.jpg]</td>\n",
       "      <td>[0.900003, 0.909471]</td>\n",
       "    </tr>\n",
       "    <tr>\n",
       "      <th>2251</th>\n",
       "      <td>dermet_image_train/dermagraphism-5.jpg</td>\n",
       "      <td>[dermet_image_train/necrobiosis-lipoidica-38.jpg]</td>\n",
       "      <td>[0.900006]</td>\n",
       "    </tr>\n",
       "    <tr>\n",
       "      <th>4579</th>\n",
       "      <td>dermet_image_train/necrobiosis-lipoidica-38.jpg</td>\n",
       "      <td>[dermet_image_train/dermagraphism-5.jpg, dermet_image_train/ctcl-16.jpg]</td>\n",
       "      <td>[0.900006, 0.90306]</td>\n",
       "    </tr>\n",
       "    <tr>\n",
       "      <th>679</th>\n",
       "      <td>dermet_image_train/Psoriasis-Chronic-Plaque-119.jpg</td>\n",
       "      <td>[dermet_image_train/schamberg-disease-55.jpg]</td>\n",
       "      <td>[0.900011]</td>\n",
       "    </tr>\n",
       "    <tr>\n",
       "      <th>2959</th>\n",
       "      <td>dermet_image_train/eczema-subacute-86.jpg</td>\n",
       "      <td>[dermet_image_train/eczema-areola-20.jpg]</td>\n",
       "      <td>[0.900021]</td>\n",
       "    </tr>\n",
       "    <tr>\n",
       "      <th>...</th>\n",
       "      <td>...</td>\n",
       "      <td>...</td>\n",
       "      <td>...</td>\n",
       "    </tr>\n",
       "    <tr>\n",
       "      <th>4867</th>\n",
       "      <td>dermet_image_train/perioral-dermatitis-47.jpg</td>\n",
       "      <td>[dermet_image_train/perioral-dermatitis-43.jpg, dermet_image_train/08PerioralDerm1.jpg]</td>\n",
       "      <td>[1.0, 1.0]</td>\n",
       "    </tr>\n",
       "    <tr>\n",
       "      <th>4863</th>\n",
       "      <td>dermet_image_train/perioral-dermatitis-43.jpg</td>\n",
       "      <td>[dermet_image_train/08PerioralDerm1.jpg, dermet_image_train/perioral-dermatitis-47.jpg]</td>\n",
       "      <td>[1.0, 1.0]</td>\n",
       "    </tr>\n",
       "    <tr>\n",
       "      <th>6535</th>\n",
       "      <td>dermet_image_train/tinea-groin-83.jpg</td>\n",
       "      <td>[dermet_image_train/13TineaGroin143.jpg, dermet_image_train/candida-groin-5.jpg]</td>\n",
       "      <td>[1.0, 1.0]</td>\n",
       "    </tr>\n",
       "    <tr>\n",
       "      <th>1865</th>\n",
       "      <td>dermet_image_train/candida-penis-12.jpg</td>\n",
       "      <td>[dermet_image_train/intertrigo-2.jpg, dermet_image_train/candida-penis-13.jpg]</td>\n",
       "      <td>[1.0, 1.0]</td>\n",
       "    </tr>\n",
       "    <tr>\n",
       "      <th>3638</th>\n",
       "      <td>dermet_image_train/herpes-type-1-recurrent-9.jpg</td>\n",
       "      <td>[dermet_image_train/herpes-type-1-recurrent-8.jpg, dermet_image_train/herpes-cutaneous-20.jpg]</td>\n",
       "      <td>[1.0, 1.0]</td>\n",
       "    </tr>\n",
       "  </tbody>\n",
       "</table>\n",
       "<p>7278 rows × 3 columns</p>\n",
       "</div>"
      ],
      "text/plain": [
       "                                                     from                                                                                              to              distance\n",
       "2944            dermet_image_train/eczema-subacute-59.jpg          [dermet_image_train/eczema-subacute-58.jpg, dermet_image_train/eczema-subacute-60.jpg]  [0.900003, 0.909471]\n",
       "2251               dermet_image_train/dermagraphism-5.jpg                                               [dermet_image_train/necrobiosis-lipoidica-38.jpg]            [0.900006]\n",
       "4579      dermet_image_train/necrobiosis-lipoidica-38.jpg                        [dermet_image_train/dermagraphism-5.jpg, dermet_image_train/ctcl-16.jpg]   [0.900006, 0.90306]\n",
       "679   dermet_image_train/Psoriasis-Chronic-Plaque-119.jpg                                                   [dermet_image_train/schamberg-disease-55.jpg]            [0.900011]\n",
       "2959            dermet_image_train/eczema-subacute-86.jpg                                                       [dermet_image_train/eczema-areola-20.jpg]            [0.900021]\n",
       "...                                                   ...                                                                                             ...                   ...\n",
       "4867        dermet_image_train/perioral-dermatitis-47.jpg         [dermet_image_train/perioral-dermatitis-43.jpg, dermet_image_train/08PerioralDerm1.jpg]            [1.0, 1.0]\n",
       "4863        dermet_image_train/perioral-dermatitis-43.jpg         [dermet_image_train/08PerioralDerm1.jpg, dermet_image_train/perioral-dermatitis-47.jpg]            [1.0, 1.0]\n",
       "6535                dermet_image_train/tinea-groin-83.jpg                [dermet_image_train/13TineaGroin143.jpg, dermet_image_train/candida-groin-5.jpg]            [1.0, 1.0]\n",
       "1865              dermet_image_train/candida-penis-12.jpg                  [dermet_image_train/intertrigo-2.jpg, dermet_image_train/candida-penis-13.jpg]            [1.0, 1.0]\n",
       "3638     dermet_image_train/herpes-type-1-recurrent-9.jpg  [dermet_image_train/herpes-type-1-recurrent-8.jpg, dermet_image_train/herpes-cutaneous-20.jpg]            [1.0, 1.0]\n",
       "\n",
       "[7278 rows x 3 columns]"
      ]
     },
     "execution_count": 5,
     "metadata": {},
     "output_type": "execute_result"
    }
   ],
   "source": [
    "fd.vis.similarity_gallery() "
   ]
  },
  {
   "cell_type": "code",
   "execution_count": 3,
   "metadata": {},
   "outputs": [
    {
     "name": "stderr",
     "output_type": "stream",
     "text": [
      "Generating gallery: 100%|██████████| 20/20 [00:00<00:00, 17468.99it/s]"
     ]
    },
    {
     "name": "stderr",
     "output_type": "stream",
     "text": [
      "\n"
     ]
    },
    {
     "name": "stdout",
     "output_type": "stream",
     "text": [
      "Stored outliers visual view in  infor_fastdup/galleries/outliers.html\n",
      "########################################################################################\n",
      "Would you like to see awesome visualizations for some of the most popular academic datasets?\n",
      "Click here to see and learn more: https://app.visual-layer.com/vl-datasets?utm_source=fastdup\n",
      "########################################################################################\n"
     ]
    },
    {
     "data": {
      "text/plain": [
       "0"
      ]
     },
     "execution_count": 3,
     "metadata": {},
     "output_type": "execute_result"
    }
   ],
   "source": [
    "fd.vis.outliers_gallery() "
   ]
  }
 ],
 "metadata": {
  "kernelspec": {
   "display_name": "tung",
   "language": "python",
   "name": "python3"
  },
  "language_info": {
   "codemirror_mode": {
    "name": "ipython",
    "version": 3
   },
   "file_extension": ".py",
   "mimetype": "text/x-python",
   "name": "python",
   "nbconvert_exporter": "python",
   "pygments_lexer": "ipython3",
   "version": "3.10.13"
  }
 },
 "nbformat": 4,
 "nbformat_minor": 2
}
